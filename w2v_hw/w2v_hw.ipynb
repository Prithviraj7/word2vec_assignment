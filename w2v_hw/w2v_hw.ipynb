{
 "cells": [
  {
   "cell_type": "markdown",
   "metadata": {},
   "source": [
    "# 0. Introduction\n",
    "\n",
    "## 0.1 Readings\n",
    "\n",
    "A good resource for today's task (besides the assigned readings from last week) is the following tutorial: [Word2Vec Tutorial: The SkipGram Model](http://mccormickml.com/2016/04/19/word2vec-tutorial-the-skip-gram-model/). Part 2 provides a really good overview of negative sampling!\n",
    "\n",
    "## 0.2 Task\n",
    "\n",
    "This week your tasks will be:\n",
    "1. Train a CBOW model with a real world dataset, explore how the parameters affect the model.\n",
    "2. Learn how to evaluate an embedding, through intrinsic and extrinsic evaluation.\n",
    "2. Build a SkipGram model, based on your experience on CBOW.\n"
   ]
  },
  {
   "cell_type": "markdown",
   "metadata": {},
   "source": [
    "# 1. CBOW\n",
    "\n",
    "\n",
    "Our first task is to build our very own CBOW. In this section, you will *NOT* be required to write code for the network. Instead, you will be exploring the model by forming a hypothesis and testing it through different parameter settings.\n",
    "\n",
    "First, let's remind ourselves of the famous quote:\n",
    "\n",
    "> You shall know a word by the company it keeps (Firth, J. R. 1957:11)\n",
    "\n",
    "What this implies is that it is possible to define a word, or *meaning* of a word in a way that describes a prediction task: **the task of predicting the word given the context**. However, one problem still remains: how to represent the meaning of a word? Luckily, there has already been a line of works that suggest a solution: representing the meaning of a word by a vector -- the vector space model.\n",
    "\n",
    "Now let's imagine that we are given a near-perfect vector space model that maps meaning of a word to vector. One of the easiest ways to solve the task then, is that we can literally just use the sum of the context vectors as the inputs, the target word vector as the output, and fit it through a linear model!\n",
    "\n",
    "And that is exactly what CBOW is doing: <img src=\"figures/cbow.png\" alt=\"cobw\" style=\"width: 400px;\"/>\n",
    "\n",
    "The weights between the input and hidden layer are the vector space model mapping, and the weights between the hidden and output layer are the linear prediction model. \n",
    "\n",
    "The only catch is that we don't have that near-perfect vector space model given to us! Thus, our goal is to jointly learn (1) a representation of the word, and (2) a prediction model. In the following sections, we will explore how to do that through PyTorch.\n",
    "\n",
    "\n",
    "\n",
    "## 1.1 Building our training set\n",
    "\n",
    "We want to start with building a training set. For the purpose of this exploratory exercise, you will be using a medium size corpus: the [IMDB movie review dataset](http://ai.stanford.edu/~amaas/data/sentiment/) (you should already downloaded it in `README.md`)\n",
    "\n",
    "\n",
    "### Data Preprocessing\n",
    "\n",
    "First, we removed all punctuations and lowercased everything, and tokenize it by whitespace."
   ]
  },
  {
   "cell_type": "code",
   "execution_count": 2,
   "metadata": {},
   "outputs": [],
   "source": [
    "# A utility collections for data processing, make sure you already download the data(see README.md)\n",
    "from utils import read_imdb_data\n",
    "\n",
    "# read_imdb_data removes punctuations and lowercase everything\n",
    "X_raw_train, y_train = read_imdb_data('../data/aclImdb/train')\n",
    "raw_text = ' '.join(X_raw_train).split()"
   ]
  },
  {
   "cell_type": "markdown",
   "metadata": {},
   "source": [
    "To make sure that it is properly loaded, let's peek into the content a bit:"
   ]
  },
  {
   "cell_type": "code",
   "execution_count": 3,
   "metadata": {},
   "outputs": [
    {
     "name": "stdout",
     "output_type": "stream",
     "text": [
      "story of a man who has unnatural feelings for a pig starts out with a opening scene that is a terrific example of absurd comedy a formal orchestra audience is\n"
     ]
    }
   ],
   "source": [
    "print(' '.join(raw_text[:30]))"
   ]
  },
  {
   "cell_type": "markdown",
   "metadata": {},
   "source": [
    "### Filter the Vocab\n",
    "\n",
    "For the purpose of this assignment, and for the sake of training time, we limit the vocabulary to the most common 1000 words."
   ]
  },
  {
   "cell_type": "code",
   "execution_count": 4,
   "metadata": {},
   "outputs": [],
   "source": [
    "from collections import Counter\n",
    "\n",
    "# pick the top words only\n",
    "raw_text_count = Counter(raw_text)\n",
    "vocab = set(list(zip(*raw_text_count.most_common(1000)))[0])\n",
    "vocab_size = len(vocab)"
   ]
  },
  {
   "cell_type": "markdown",
   "metadata": {},
   "source": [
    "We then only keep the selected words in the raw text."
   ]
  },
  {
   "cell_type": "code",
   "execution_count": 5,
   "metadata": {},
   "outputs": [],
   "source": [
    "# filter raw text by vocab\n",
    "text = [r for r in raw_text if r in vocab]"
   ]
  },
  {
   "cell_type": "markdown",
   "metadata": {},
   "source": [
    "---\n",
    "# Question 1\n",
    "\n",
    "The preprocessing steps introduced here seem very naive, and potentially problematic. Before you read further down the exercise, based on your understanding of CBOW, \n",
    "\n",
    "1. list three potential concerns with the preprocessing choices, explain why they might be a concern.\n",
    "2. potential fixes for these concerns.\n",
    "---"
   ]
  },
  {
   "cell_type": "markdown",
   "metadata": {},
   "source": [
    "### Building the Dataset\n",
    "\n",
    "Now let's build our dataset! First we define some handy helper functions:"
   ]
  },
  {
   "cell_type": "code",
   "execution_count": 6,
   "metadata": {},
   "outputs": [],
   "source": [
    "def make_context_vector(context, word_to_ix):\n",
    "    '''\n",
    "    helper function to translate context into indexes for inputs\n",
    "    In:\n",
    "        context: a list of words\n",
    "        word_to_ix: a mapping from word to index\n",
    "    Out:\n",
    "        idxs: a list of indexes\n",
    "    '''\n",
    "    idxs = [word_to_ix[w] for w in context]\n",
    "    return idxs"
   ]
  },
  {
   "cell_type": "code",
   "execution_count": 7,
   "metadata": {},
   "outputs": [],
   "source": [
    "def data_batcher(X, Y, batches=5):\n",
    "    '''\n",
    "    helper function to batch data, note that batches is not the size of the batch, \n",
    "    but how many batches the dataset is divided into.\n",
    "    In:\n",
    "        X: a matrix of size (num_sample, CONTEXT_SIZE*2)\n",
    "        Y: an array of size (num_sample)\n",
    "        batches: how many batches the dataset is divided into, default:5\n",
    "    Out:\n",
    "        a batch of X and Y\n",
    "    '''\n",
    "    indices = np.arange(X.shape[0])\n",
    "    np.random.shuffle(indices)\n",
    "    \n",
    "    for i in range(batches):\n",
    "        start = int((i * X.shape[0]) / batches)\n",
    "        end = int(((i + 1) * X.shape[0]) / batches)\n",
    "        yield X[start:end, :], Y[start:end]"
   ]
  },
  {
   "cell_type": "markdown",
   "metadata": {},
   "source": [
    "Recall that our given (X) is the context, our target (Y) is the word. \n",
    "\n",
    "We then build our dataset by iterating through the filtered text and mapping the words to indexes."
   ]
  },
  {
   "cell_type": "code",
   "execution_count": 8,
   "metadata": {},
   "outputs": [],
   "source": [
    "import numpy as np\n",
    "\n",
    "# Let's set the context window size to 2 for now\n",
    "CONTEXT_SIZE = 2  # 2 words to the left, 2 to the right\n",
    "\n",
    "# A mapping from word to index\n",
    "word_to_ix = {word: i for i, word in enumerate(vocab)}\n",
    "\n",
    "X = []\n",
    "Y = []\n",
    "# iterate through the text to build dataset\n",
    "for i in range(CONTEXT_SIZE, len(text) - CONTEXT_SIZE):\n",
    "    context = [text[i + j] for j in range(-CONTEXT_SIZE, CONTEXT_SIZE+1) if not j==0]\n",
    "    target = text[i]\n",
    "    # the data translate to indexes, X is the context, Y is the target word.\n",
    "    X.append(make_context_vector(context, word_to_ix))\n",
    "    Y.append(word_to_ix[target])\n",
    "\n",
    "# convert to numpy for easier data handling later\n",
    "X = np.array(X, dtype=int)\n",
    "Y = np.array(Y, dtype=int)"
   ]
  },
  {
   "cell_type": "markdown",
   "metadata": {},
   "source": [
    "## 1.2 CBOW with PyTorch\n",
    "\n",
    "Now that we have our dataset built, let's import PyTorch!\n",
    "\n",
    "Note: if importing PyTorch failed, first try to click on Kernel->Change Kernel->Python \\[conda env:pytorch_w2v\\] on the upper bar of the notebook. It is likely that you did not set the kernel (which is what the jupyter notebook is running on) to the one you had pytorch installed. If you change the kernel, please re-run this jupyter notebook."
   ]
  },
  {
   "cell_type": "code",
   "execution_count": 9,
   "metadata": {},
   "outputs": [],
   "source": [
    "# import PyTorch\n",
    "import torch\n",
    "# torch.nn contains modules or subcomponents of the network required to train the network.\n",
    "import torch.nn as nn\n",
    "# torch.nn.functional is a collection of handy functions that you can build into the model\n",
    "import torch.nn.functional as F\n",
    "# torch.optim contains optimizers to update the parameters of network\n",
    "import torch.optim as optim\n",
    "\n",
    "\"\"\"\n",
    "Variable in torch.autograd is used to tell pytorch that \n",
    "the object should be put into the PyTorch computation graph. \n",
    "See readings for more details.\n",
    "\"\"\"\n",
    "from torch.autograd import Variable"
   ]
  },
  {
   "cell_type": "markdown",
   "metadata": {},
   "source": [
    "Now, let's look at two modules of pytorch that will be especially useful for our implementation of CBOW: `nn.Embedding` and `nn.Linear`"
   ]
  },
  {
   "cell_type": "code",
   "execution_count": 10,
   "metadata": {},
   "outputs": [
    {
     "name": "stdout",
     "output_type": "stream",
     "text": [
      "A simple lookup table that stores embeddings of a fixed dictionary and size.\n",
      "\n",
      "    This module is often used to store word embeddings and retrieve them using indices.\n",
      "    The input to the module is a list of indices, and the output is the corresponding\n",
      "    word embeddings.\n",
      "\n",
      "    Args:\n",
      "        num_embeddings (int): size of the dictionary of embeddings\n",
      "        embedding_dim (int): the size of each embedding vector\n",
      "        padding_idx (int, optional): If given, pads the output with zeros whenever it encounters the index.\n",
      "        max_norm (float, optional): If given, will renormalize the embeddings to always have a norm lesser than this\n",
      "        norm_type (float, optional): The p of the p-norm to compute for the max_norm option\n",
      "        scale_grad_by_freq (boolean, optional): if given, this will scale gradients by the frequency of\n",
      "                                                the words in the mini-batch.\n",
      "        sparse (boolean, optional): if ``True``, gradient w.r.t. weight matrix will be a sparse tensor. See Notes for\n",
      "                                    more details regarding sparse gradients.\n",
      "\n",
      "    Attributes:\n",
      "        weight (Tensor): the learnable weights of the module of shape (num_embeddings, embedding_dim)\n",
      "\n",
      "    Shape:\n",
      "        - Input: LongTensor `(N, W)`, N = mini-batch, W = number of indices to extract per mini-batch\n",
      "        - Output: `(N, W, embedding_dim)`\n",
      "\n",
      "    Notes:\n",
      "        Keep in mind that only a limited number of optimizers support\n",
      "        sparse gradients: currently it's `optim.SGD` (`cuda` and `cpu`),\n",
      "        and `optim.Adagrad` (`cpu`)\n",
      "\n",
      "    Examples::\n",
      "\n",
      "        >>> # an Embedding module containing 10 tensors of size 3\n",
      "        >>> embedding = nn.Embedding(10, 3)\n",
      "        >>> # a batch of 2 samples of 4 indices each\n",
      "        >>> input = Variable(torch.LongTensor([[1,2,4,5],[4,3,2,9]]))\n",
      "        >>> embedding(input)\n",
      "\n",
      "        Variable containing:\n",
      "        (0 ,.,.) =\n",
      "         -1.0822  1.2522  0.2434\n",
      "          0.8393 -0.6062 -0.3348\n",
      "          0.6597  0.0350  0.0837\n",
      "          0.5521  0.9447  0.0498\n",
      "\n",
      "        (1 ,.,.) =\n",
      "          0.6597  0.0350  0.0837\n",
      "         -0.1527  0.0877  0.4260\n",
      "          0.8393 -0.6062 -0.3348\n",
      "         -0.8738 -0.9054  0.4281\n",
      "        [torch.FloatTensor of size 2x4x3]\n",
      "\n",
      "        >>> # example with padding_idx\n",
      "        >>> embedding = nn.Embedding(10, 3, padding_idx=0)\n",
      "        >>> input = Variable(torch.LongTensor([[0,2,0,5]]))\n",
      "        >>> embedding(input)\n",
      "\n",
      "        Variable containing:\n",
      "        (0 ,.,.) =\n",
      "          0.0000  0.0000  0.0000\n",
      "          0.3452  0.4937 -0.9361\n",
      "          0.0000  0.0000  0.0000\n",
      "          0.0706 -2.1962 -0.6276\n",
      "        [torch.FloatTensor of size 1x4x3]\n",
      "\n",
      "    \n"
     ]
    }
   ],
   "source": [
    "print(nn.Embedding.__doc__)"
   ]
  },
  {
   "cell_type": "code",
   "execution_count": 11,
   "metadata": {},
   "outputs": [
    {
     "name": "stdout",
     "output_type": "stream",
     "text": [
      "Applies a linear transformation to the incoming data: :math:`y = Ax + b`\n",
      "\n",
      "    Args:\n",
      "        in_features: size of each input sample\n",
      "        out_features: size of each output sample\n",
      "        bias: If set to False, the layer will not learn an additive bias.\n",
      "            Default: ``True``\n",
      "\n",
      "    Shape:\n",
      "        - Input: :math:`(N, *, in\\_features)` where `*` means any number of\n",
      "          additional dimensions\n",
      "        - Output: :math:`(N, *, out\\_features)` where all but the last dimension\n",
      "          are the same shape as the input.\n",
      "\n",
      "    Attributes:\n",
      "        weight: the learnable weights of the module of shape\n",
      "            (out_features x in_features)\n",
      "        bias:   the learnable bias of the module of shape (out_features)\n",
      "\n",
      "    Examples::\n",
      "\n",
      "        >>> m = nn.Linear(20, 30)\n",
      "        >>> input = autograd.Variable(torch.randn(128, 20))\n",
      "        >>> output = m(input)\n",
      "        >>> print(output.size())\n",
      "    \n"
     ]
    }
   ],
   "source": [
    "print(nn.Linear.__doc__)"
   ]
  },
  {
   "cell_type": "markdown",
   "metadata": {},
   "source": [
    "### The CBOW model\n",
    "\n",
    "Now, it's the exciting part. Let's build our model!\n",
    "\n",
    "Recall that network structure of CBOW is equivalent to $A\\left ( \\sum_{w \\in Context} q_w \\right ) + b$, where $q_w$ is the vector representation of word $w$, A and b are parameters for the linear prediction model. If we applied log softmax to convert the output to log probability, our goal then becomes: \n",
    "\n",
    "$$arg\\max_{A, b, Q} \\log P(w_i|Context) = arg\\max_{A, b, Q} logSoftmax\\left (A\\left ( \\sum_{w \\in Context} q_w \\right ) + b\\right )$$\n",
    "\n",
    "where $Q$ is the matrix of embeddings.\n",
    "\n",
    "With this in mind, our model is thus:"
   ]
  },
  {
   "cell_type": "code",
   "execution_count": 12,
   "metadata": {},
   "outputs": [],
   "source": [
    "class CBOW(nn.Module):\n",
    "    \"\"\"\n",
    "    A PyTorch implementation of CBOW for exploratory purpose.\n",
    "    \n",
    "    Args:\n",
    "        - vocab_size: size of the vocabulary\n",
    "        - embedding_dim: dimension of the representation vector for words\n",
    "        - word_to_ix: a mapping from word to index\n",
    "    \n",
    "    Shape:\n",
    "        - Input: LongTensor (N, W), N = mini-batch size, W = number of indices to extract per mini-batch\n",
    "        - Output: (N, vocab_size),  N = mini-batch size\n",
    "    \n",
    "    \"\"\"\n",
    "\n",
    "    # Initializing the model, instanciating the required module (Not linking them)\n",
    "    def __init__(self, vocab_size, embedding_dim, word_to_ix):\n",
    "        # A standard python way of saying CBOW is going to inherit nn.Module\n",
    "        super(CBOW, self).__init__()\n",
    "        \n",
    "        self.word_to_ix = word_to_ix\n",
    "        \n",
    "        \"\"\"\n",
    "        We create an nn.Embedding instance with vocab size and embedding dimension specified.\n",
    "        sparse=True enable sparse gradient updates, which speed up the computation and save memory.\n",
    "        \"\"\"\n",
    "        self.emb = nn.Embedding(vocab_size, embedding_dim, sparse=True)\n",
    "       \n",
    "        \"\"\"\n",
    "        We create an nn.Linear instance with embedding_dim as the input features size\n",
    "        and vocab_size as the output size. Recall that the goal of nn.Linear is\n",
    "        a prediction model which maps from an embedding to scores over the vocabulary space.\n",
    "        \"\"\"\n",
    "        self.linear = nn.Linear(embedding_dim, vocab_size)\n",
    "        \n",
    "        \"\"\"\n",
    "        We create an nn.LogSoftmax instance that convert scores to log probility over dim=1, \n",
    "        as we are using dim=0 as the mini-batch dimension.\n",
    "        \"\"\"\n",
    "        self.logsoftmax = nn.LogSoftmax(dim=1)\n",
    "\n",
    "    # Here is where we acutally link the modules to describe how the data flow through the network.\n",
    "    def forward(self, inputs):\n",
    "        \"\"\"\n",
    "        - inputs: LongTensor (N, W), N = mini-batch size, W = number of indices to extract per mini-batch\n",
    "        - outputs: (N, vocab_size),  N = mini-batch size\n",
    "        \"\"\"\n",
    "        out = self.emb(inputs).sum(dim=1)\n",
    "        out = self.linear(out)\n",
    "        return self.logsoftmax(out)\n",
    "\n",
    "    # helper function to retrieve the trained vector space model (or word embedding)\n",
    "    def word_embedding(self):\n",
    "        return model.emb.weight\n",
    "    \n",
    "    # helper function to do a word to vector lookup\n",
    "    def word2vec(self, word):\n",
    "        return model.emb.weight[self.word_to_ix[word], :]"
   ]
  },
  {
   "cell_type": "markdown",
   "metadata": {},
   "source": [
    "Note that there really wasn't many lines of code! Most of those are acutally my comments!\n",
    "\n",
    "\n",
    "### Training\n",
    "\n",
    "Next we need to actually train the model."
   ]
  },
  {
   "cell_type": "code",
   "execution_count": 13,
   "metadata": {},
   "outputs": [],
   "source": [
    "# handy library to help you visualize the progress\n",
    "import progressbar\n",
    "\n",
    "\"\"\"\n",
    "A function to call for training given the model.\n",
    "\n",
    "Parameters for train():\n",
    "    - model: a CBOW instance\n",
    "    - num_epochs: number of time the entire dataset is trained through\n",
    "    - batches:  recall that batches is not the size of the batch, \n",
    "                but how many batches the dataset is divided into.\n",
    "\"\"\"\n",
    "def train(model, num_epochs=5, batches=100):\n",
    "    \n",
    "    \"\"\"\n",
    "    The negative log likelihood loss. \n",
    "    It is useful to train a classification problem with C classes.\n",
    "    Expected to contain log-probabilities of each class. See nn.NLLLoss.__doc__ for more details.\n",
    "    \"\"\"\n",
    "    criterion = nn.NLLLoss()\n",
    "    \n",
    "    \"\"\"\n",
    "    The stochastic gradient descent optimizer used to update weights, once gradient is computed.\n",
    "    We set a learning rate of 0.001, and momentum of 0.9.\n",
    "    \"\"\"\n",
    "    optimizer = optim.SGD(model.parameters(), lr=0.001, momentum=0.9)\n",
    "    \n",
    "    # keep track of the loss of the model to see if the model converges.\n",
    "    losses = []\n",
    "    \n",
    "    for epoch in range(num_epochs):\n",
    "        \n",
    "        # progressbar setting\n",
    "        widgets = ['Epoch {} '.format(epoch), progressbar.Percentage(), ' ', progressbar.Bar(), ' ', progressbar.ETA()]\n",
    "        bar = progressbar.ProgressBar(widgets=widgets, max_value=batches)\n",
    "\n",
    "        for context, target in bar(data_batcher(X, Y, batches)):\n",
    "            \"\"\"\n",
    "            Wrap our training pair context and target first through torch.LongTensor, \n",
    "            and then through Variable.\n",
    "            \n",
    "            torch.LongTensor is a holder for integer variable, and is expected by the model as input.\n",
    "            \n",
    "            Variable is used to put x and y into the PyTorch computation graph. See readings for more details.\n",
    "            \"\"\"\n",
    "            x = Variable(torch.LongTensor(context))\n",
    "            y = Variable(torch.LongTensor(target))\n",
    "            \n",
    "            \"\"\"\n",
    "            zero the parameter gradients\n",
    "        \n",
    "            If you don't do so, the gradients will accumulate and lead to significant slow down.\n",
    "            \"\"\"\n",
    "            optimizer.zero_grad()\n",
    "\n",
    "            \"\"\"\n",
    "            forward\n",
    "            \n",
    "            The final piece how connecting the network to the data! \n",
    "            We feed the data in, and get a loss value back.\n",
    "            \"\"\"\n",
    "            outputs = model(x)\n",
    "            loss = criterion(outputs, y)\n",
    "            \n",
    "            \"\"\"\n",
    "            backward\n",
    "            \n",
    "            This may seem like black magic, but what it really does is \n",
    "            essentially doing chain rule (or a fancier term -- backpropagation)\n",
    "            \n",
    "            Intuitively, for every object x that is a Variable, this calculates\n",
    "            \n",
    "            d loss\n",
    "            -------\n",
    "            d x\n",
    "            \n",
    "            And exactly how to break down the above term to get the actual gradient?\n",
    "            This is done automatically by the computation graph PyTorch build while \n",
    "            you write the model! Thus the name 'autograd'.\n",
    "            \"\"\"\n",
    "            loss.backward()\n",
    "            \n",
    "            \"\"\"\n",
    "            optimize\n",
    "            \n",
    "            Now that for every Variable, we have calculate the gradient, we can use an\n",
    "            optimizer to update the weights!\n",
    "            \n",
    "            SGD for example, does something intuitively like this:\n",
    "            w = w + learning_rate*w.grad\n",
    "            \"\"\"\n",
    "            optimizer.step()\n",
    "            \n",
    "            # just to record the loss\n",
    "            losses.append(loss.data.numpy())\n",
    "    return losses"
   ]
  },
  {
   "cell_type": "markdown",
   "metadata": {},
   "source": [
    "Let's start training!"
   ]
  },
  {
   "cell_type": "code",
   "execution_count": 14,
   "metadata": {},
   "outputs": [],
   "source": [
    "# import matplotlib to plot the losses\n",
    "from matplotlib import pyplot as plt"
   ]
  },
  {
   "cell_type": "code",
   "execution_count": 15,
   "metadata": {},
   "outputs": [
    {
     "name": "stderr",
     "output_type": "stream",
     "text": [
      "Epoch 0 100% |##################################################| Time: 0:03:17\n",
      "Epoch 1 100% |##################################################| Time: 0:03:08\n",
      "Epoch 2 100% |##################################################| Time: 0:03:11\n"
     ]
    },
    {
     "data": {
      "text/plain": [
       "[<matplotlib.lines.Line2D at 0x137190208>]"
      ]
     },
     "execution_count": 15,
     "metadata": {},
     "output_type": "execute_result"
    },
    {
     "data": {
      "image/png": "[encoded data removed]",
      "text/plain": [
       "<matplotlib.figure.Figure at 0x125132ba8>"
      ]
     },
     "metadata": {},
     "output_type": "display_data"
    }
   ],
   "source": [
    "\"\"\"\n",
    "We first initalize a CBOW model of vocab_size 1000 (the top 1000 words we limited it to)\n",
    "and train a vector space model with embbeding dimension=10, since we only have a medium dataset.\n",
    "\"\"\"\n",
    "model = CBOW(vocab_size, 10, word_to_ix)\n",
    "\n",
    "# Train with 3 epochs, 100,000 data batches\n",
    "plt.plot(train(model, 3, 100000))"
   ]
  },
  {
   "cell_type": "markdown",
   "metadata": {},
   "source": [
    "# TODO\n",
    "\n",
    "### This part will be converted to an evaluation part\n",
    "\n",
    "Now let's quickly check our results!"
   ]
  },
  {
   "cell_type": "code",
   "execution_count": 16,
   "metadata": {},
   "outputs": [
    {
     "data": {
      "text/plain": [
       "Variable containing:\n",
       " 0.8933\n",
       "[torch.FloatTensor of size 1]"
      ]
     },
     "execution_count": 16,
     "metadata": {},
     "output_type": "execute_result"
    }
   ],
   "source": [
    "cos = nn.CosineSimilarity(dim=0, eps=1e-6)\n",
    "cos(model.word2vec('movie'), model.word2vec('film'))"
   ]
  },
  {
   "cell_type": "code",
   "execution_count": 17,
   "metadata": {},
   "outputs": [],
   "source": [
    "def closest_n_words(model, vocab, word, n=10):\n",
    "    cos = nn.CosineSimilarity(dim=0, eps=1e-6)\n",
    "    word_vec = model.word2vec(word)\n",
    "    scores=[]\n",
    "    for v in vocab:\n",
    "        if not v == word:\n",
    "            score = cos(model.word2vec(v), word_vec)\n",
    "            scores.append((score, v))\n",
    "    return list(zip(*(sorted(scores, key=lambda score: score[0].data.numpy(), reverse=True)[:n])))[1]"
   ]
  },
  {
   "cell_type": "code",
   "execution_count": 18,
   "metadata": {},
   "outputs": [
    {
     "data": {
      "text/plain": [
       "('film', 'fans', 'as', 'wish', 'wait', 'since', 'roles', 'hate', 'much', 'lee')"
      ]
     },
     "execution_count": 18,
     "metadata": {},
     "output_type": "execute_result"
    }
   ],
   "source": [
    "closest_n_words(model, vocab, 'movie')"
   ]
  },
  {
   "cell_type": "markdown",
   "metadata": {},
   "source": [
    "---\n",
    "# Question 2\n",
    "\n",
    "Now that you learned how to evaluate a vector space model, let's explore the model by changing the parameters!\n",
    "\n",
    "Form **two hypothesis** of how the parameters may affect the model. For each of the hypothesis, do some experiments to prove or disprove your point! Describe the two hypothesis, your experiments, rationale, and results (if any), in the writeup. Don't include code for this part unless nessasary.\n",
    "\n",
    "Also, the definition of parameters are very broad: anything outside of the CBOW model can be considered parameters, including the preprocessing part!\n",
    "\n",
    "Note that you may not be able to sucessfully test the assumption, either due to long training time or lack of training data. The key to the grading will be whether the assumptions are grounded in what we learned in class, and whether the experiments, if sucessfuly ran, would logically support/deny your assumptions.\n",
    "\n",
    "We are also not concerned with whether your performance of embedding beats state-of-the-art, as that is not the purpose of this exploratory assignment.\n",
    "\n",
    "---"
   ]
  },
  {
   "cell_type": "markdown",
   "metadata": {},
   "source": [
    "# 2. Skipgrams\n",
    "\n",
    "The second task is to train a SkipGram model. Take inspiration from the CBoW classifier trained in the slides, but remember the implementational differences in skipgram.\n",
    "\n",
    "For one, you generally think about it as having 2 embedding matrices, a word-embedding and a context-embedding. Secondly, you're predicting the context from the words, not the other way around. That part won't change your model code, but it will change how you preprocess the data."
   ]
  },
  {
   "cell_type": "code",
   "execution_count": 6,
   "metadata": {
    "collapsed": true
   },
   "outputs": [],
   "source": [
    "X = '''\n",
    "it was the best of times it was the worst of times \n",
    "it was the age of wisdom it was the age of foolishness\n",
    "it was the epoch of belief it was the epoch of credulity\n",
    "'''.split()\n",
    "\n",
    "# You'll need to write code that takes in the dataset and creates \n",
    "# the training examples from it. Remember, the training examples\n",
    "# are (w, c) pairs for every word c in the context window of word w.\n",
    "\n",
    "# for instance, on the training set above, the pairs for w = best, and a \n",
    "# will be:\n",
    "#\n",
    "# (best, was)\n",
    "# (best, the)\n",
    "# (best, of)\n",
    "# (best, times)\n",
    "def make_examples(X, context_size=2):\n",
    "    # Your code goes here.\n",
    "    pass"
   ]
  },
  {
   "cell_type": "code",
   "execution_count": 7,
   "metadata": {
    "collapsed": true
   },
   "outputs": [],
   "source": [
    "class Skipgram(nn.Module):\n",
    "    \"\"\" Your code goes here. \"\"\"\n",
    "    pass"
   ]
  },
  {
   "cell_type": "markdown",
   "metadata": {},
   "source": [
    "Once you've created the model, you'll need to train it. I've provided you with a batch function."
   ]
  },
  {
   "cell_type": "code",
   "execution_count": 8,
   "metadata": {
    "collapsed": true
   },
   "outputs": [],
   "source": [
    "def batch_data(X, y, batch_size=8):\n",
    "    indices = np.arange(X.shape[0])\n",
    "    np.random.shuffle(indices)\n",
    "    count = 0\n",
    "    \n",
    "    while count < X.shape[0]:\n",
    "        yield X[count:(count+batch_size), :], y[count:(count+batch_size)]\n",
    "        count += batch_size"
   ]
  },
  {
   "cell_type": "code",
   "execution_count": 9,
   "metadata": {},
   "outputs": [],
   "source": [
    "NUM_EPOCHS = 1000\n",
    "\n",
    "# Your code goes here.\n",
    "# Remember to instantiate a model, loss function, and optimizer\n",
    "\n",
    "for i in range(NUM_EPOCHS):\n",
    "    # Your code goes here.\n",
    "    # You should use the batch_data function, but remember to wrap your batches\n",
    "    # in a Variable()\n",
    "    pass"
   ]
  },
  {
   "cell_type": "markdown",
   "metadata": {},
   "source": [
    "# Extra Credit: Negative Sampling\n",
    "\n",
    "Finally, for those of you who want to take on the challenge, I encourage you to attempt to implement negative sampling! Your two options are to write a general purpose negative sampling loss module, or to wrap the whole thing up into the implementation of Skipgram.\n",
    "\n",
    "The first step will be using a larger dataset to train the vectors on. We'll use the IMDB data."
   ]
  },
  {
   "cell_type": "code",
   "execution_count": 10,
   "metadata": {
    "collapsed": true
   },
   "outputs": [],
   "source": [
    "from utils import read_imdb_data"
   ]
  },
  {
   "cell_type": "code",
   "execution_count": 11,
   "metadata": {
    "collapsed": true
   },
   "outputs": [],
   "source": [
    "X, y = read_imdb_data('../data/aclImdb/test')\n",
    "X = ' '.join(X).split()"
   ]
  },
  {
   "cell_type": "markdown",
   "metadata": {},
   "source": [
    "We can limit the size of the vocabulary to speed up training as well."
   ]
  },
  {
   "cell_type": "code",
   "execution_count": 13,
   "metadata": {},
   "outputs": [],
   "source": [
    "from sklearn.feature_extraction.text import CountVectorizer\n",
    "\n",
    "vectorizer = CountVectorizer(max_features=1000)\n",
    "vectorizer.fit(X)\n",
    "\n",
    "X = [w for w in X if w in vectorizer.vocabulary_.keys()]"
   ]
  },
  {
   "cell_type": "markdown",
   "metadata": {},
   "source": [
    "Now go through the same process you went through above to generate the training pairs."
   ]
  },
  {
   "cell_type": "code",
   "execution_count": 14,
   "metadata": {
    "collapsed": true
   },
   "outputs": [],
   "source": [
    "class NegativeSamplingSkipgram(nn.Module):\n",
    "    \"\"\" Your code goes here. \"\"\"\n",
    "    pass"
   ]
  },
  {
   "cell_type": "code",
   "execution_count": 15,
   "metadata": {
    "collapsed": true
   },
   "outputs": [],
   "source": [
    "NUM_EPOCHS = 1000\n",
    "\n",
    "# Your code goes here.\n",
    "# Remember to instantiate a model, loss function, and optimizer\n",
    "\n",
    "for i in range(NUM_EPOCHS):\n",
    "    # Your code goes here.\n",
    "    # You should use the batch_data function, but remember to wrap your batches\n",
    "    # in a Variable()\n",
    "    pass"
   ]
  },
  {
   "cell_type": "code",
   "execution_count": null,
   "metadata": {
    "collapsed": true
   },
   "outputs": [],
   "source": []
  }
 ],
 "metadata": {
  "kernelspec": {
   "display_name": "Python [conda env:pytorch-rg]",
   "language": "python",
   "name": "conda-env-pytorch-rg-py"
  },
  "language_info": {
   "codemirror_mode": {
    "name": "ipython",
    "version": 3
   },
   "file_extension": ".py",
   "mimetype": "text/x-python",
   "name": "python",
   "nbconvert_exporter": "python",
   "pygments_lexer": "ipython3",
   "version": "3.6.3"
  }
 },
 "nbformat": 4,
 "nbformat_minor": 2
}
